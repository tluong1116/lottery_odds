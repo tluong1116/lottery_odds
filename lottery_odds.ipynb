{
 "cells": [
  {
   "cell_type": "markdown",
   "metadata": {},
   "source": [
    "# Lottery Odds Analysis \n",
    "\n",
    "*This analysis was done as part of dataquest practice.*\n",
    "\n",
    "The lottery is relatively inexpensive. In the US, the usual price people will pay for a lottery ticket is in the range of $2-$5, with the promise of a huge jackpot prize. Naturally, it is seen as a socially acceptable form of gambling. However, for a minority, this form of entertainment escalate into an addiction.\n",
    "\n",
    "In this analysis, we will assume the role of data analyst medical institute that aims to prevent and treat gambling addictions. The institute wants to build a dedicated mobile app to help lottery addicts better estimate their chances of winning. The institute need us to create the logical core of the app and calculate probabilities to support the engineer when building the app.\n",
    "\n",
    "We will focus on the [6/49 lottery](https://en.wikipedia.org/wiki/Lotto_6/49) and build functions that enable users to answer questions like:\n",
    "\n",
    "- What is the probability of winning the big prize with a single ticket?\n",
    "- What is the probability of winning the big prize if we play 40 different tickets (or any other number)?\n",
    "- What is the probability of having at least five (or four, or three, or two) winning numbers on a single ticket?\n",
    "\n",
    "We will also use historical data coming from the national 6/49 lottery game in Canada as a bonus. The [data set](https://www.kaggle.com/datascienceai/lottery-dataset) has data for 3,665 drawings, dating from 1982 to 2018.\n",
    "\n",
    "In the 6/49 lottery, six numbers are drawn from a set of 49 numbers that range from 1 to 49. The drawing is done without replacement, which means once a number is drawn, it's not put back in the set. Which means we will have to perform a lot of factorial and combinations calculations."
   ]
  },
  {
   "cell_type": "code",
   "execution_count": 1,
   "metadata": {},
   "outputs": [],
   "source": [
    "import math\n",
    "import scipy.special\n",
    "import numpy as np\n",
    "import pandas as pd\n",
    "\n",
    "# So I don't have to type much. I am lazy\n",
    "combinations = scipy.special.comb"
   ]
  },
  {
   "cell_type": "markdown",
   "metadata": {},
   "source": [
    "## One-ticket Probability\n",
    "We need to build a function that calculates the probability of winning the big prize for any given ticket. For each drawing, six numbers are drawn from a set of 49, and a player wins the big prize if the six numbers on their tickets match all six numbers.\n",
    "\n",
    "The engineer team told us that we need to be aware of the following details when we write the function:\n",
    "\n",
    "- Inside the app, the user inputs six different numbers from 1 to 49.\n",
    "- Under the hood, the six numbers will come as a Python list and serve as an input to our function.\n",
    "- The engineering team wants the function to print the probability value in a friendly way — in a way that people without any probability training are able to understand."
   ]
  },
  {
   "cell_type": "code",
   "execution_count": 2,
   "metadata": {},
   "outputs": [
    {
     "name": "stdout",
     "output_type": "stream",
     "text": [
      "The probability of winning with the numbers [1, 2, 3, 4, 5, 6] is 0.0000072%.\n",
      "In other word, you have a 1 in 13,983,816 chances to win.\n",
      "The probability of winning with the numbers [9, 26, 41, 7, 15, 6] is 0.0000072%.\n",
      "In other word, you have a 1 in 13,983,816 chances to win.\n"
     ]
    }
   ],
   "source": [
    "def one_ticket_probablity(ticket_list):\n",
    "    '''\n",
    "    Function to calculate probablity of winning when buying a single ticket\n",
    "    \n",
    "    Arguments:\n",
    "    ticket_list (list): list of 6 numbers on the ticket\n",
    "    '''\n",
    "    possible_outcomes = combinations(49,6)\n",
    "    one_ticket_probablity = 1/possible_outcomes\n",
    "    percentage_form = one_ticket_probablity * 100\n",
    "    \n",
    "    message = (\"The probability of winning with the numbers {} is\"\n",
    "               \" {:.7f}%.\\n\"\n",
    "               \"In other word, you have a 1 in {:,} chances to win.\".format(\n",
    "                   ticket_list, percentage_form, int(possible_outcomes)))\n",
    "    \n",
    "    print(message)\n",
    "    \n",
    "one_ticket_probablity([1,2,3,4,5,6])\n",
    "one_ticket_probablity([9, 26, 41, 7, 15, 6])"
   ]
  },
  {
   "cell_type": "markdown",
   "metadata": {},
   "source": [
    "## Historical Data Check for Canada Lottery\n",
    "*This was done solely to satisfy dataquest instructions. Comparing historical tickets with current ticket doesn't make much sense to me. However, I am not a gambler so I am not so sure about that.*\n",
    "\n",
    "Next we will examine data from kaggle to check the empirical probability."
   ]
  },
  {
   "cell_type": "code",
   "execution_count": 3,
   "metadata": {},
   "outputs": [],
   "source": [
    "# This will download data into /data/ folder, with the name '649.csv'\n",
    "import kaggle\n",
    "\n",
    "kaggle.api.authenticate()\n",
    "\n",
    "kaggle.api.dataset_download_files('datascienceai/lottery-dataset', \n",
    "                                  path='./data/', unzip=True)"
   ]
  },
  {
   "cell_type": "code",
   "execution_count": 4,
   "metadata": {},
   "outputs": [
    {
     "name": "stdout",
     "output_type": "stream",
     "text": [
      "(3665, 11)\n",
      "   PRODUCT  DRAW NUMBER  SEQUENCE NUMBER  DRAW DATE  NUMBER DRAWN 1  \\\n",
      "0      649            1                0  6/12/1982               3   \n",
      "1      649            2                0  6/19/1982               8   \n",
      "2      649            3                0  6/26/1982               1   \n",
      "\n",
      "   NUMBER DRAWN 2  NUMBER DRAWN 3  NUMBER DRAWN 4  NUMBER DRAWN 5  \\\n",
      "0              11              12              14              41   \n",
      "1              33              36              37              39   \n",
      "2               6              23              24              27   \n",
      "\n",
      "   NUMBER DRAWN 6  BONUS NUMBER  \n",
      "0              43            13  \n",
      "1              41             9  \n",
      "2              39            34  \n"
     ]
    }
   ],
   "source": [
    "lottery_data = pd.read_csv('./data/649.csv')\n",
    "print(lottery_data.shape)\n",
    "print(lottery_data.head(3))"
   ]
  },
  {
   "cell_type": "markdown",
   "metadata": {},
   "source": [
    "We are going to write a function that will enable users to compare their ticket against the historical lottery data in Canada and determine whether they would have ever won by now."
   ]
  },
  {
   "cell_type": "code",
   "execution_count": 5,
   "metadata": {},
   "outputs": [],
   "source": [
    "def extract_numbers(row):\n",
    "    winning_row = row[4:10]\n",
    "    winning_set = set(winning_row.values)\n",
    "    return(winning_set)\n",
    "\n",
    "winning_numbers = lottery_data.apply(func=extract_numbers,axis=1)"
   ]
  },
  {
   "cell_type": "code",
   "execution_count": 6,
   "metadata": {},
   "outputs": [
    {
     "name": "stdout",
     "output_type": "stream",
     "text": [
      "0    {3, 41, 11, 12, 43, 14}\n",
      "1    {33, 36, 37, 39, 8, 41}\n",
      "2     {1, 6, 39, 23, 24, 27}\n",
      "dtype: object\n"
     ]
    }
   ],
   "source": [
    "print(winning_numbers.head(3))"
   ]
  },
  {
   "cell_type": "code",
   "execution_count": 7,
   "metadata": {},
   "outputs": [],
   "source": [
    "def check_historical_occurrence(user_ticket,winning_numbers):\n",
    "    ticket_set = set(user_ticket)\n",
    "    check = sum(ticket_set == winning_numbers)\n",
    "    \n",
    "    if check == 0:\n",
    "        print(\"The combination has never occured\")\n",
    "    else:\n",
    "        print(\"The combination has occured {} times in the past.\".\n",
    "             format(int(check)))"
   ]
  },
  {
   "cell_type": "markdown",
   "metadata": {},
   "source": [
    "Let's test some tickets to see if they have won before."
   ]
  },
  {
   "cell_type": "code",
   "execution_count": 8,
   "metadata": {},
   "outputs": [
    {
     "name": "stdout",
     "output_type": "stream",
     "text": [
      "The combination has occured 1 times in the past.\n",
      "The combination has never occured\n"
     ]
    }
   ],
   "source": [
    "test_input_3 = [33, 36, 37, 39, 8, 41]\n",
    "check_historical_occurrence(test_input_3, winning_numbers)\n",
    "test_input_4 = [3, 2, 44, 22, 1, 44]\n",
    "check_historical_occurrence(test_input_4, winning_numbers)"
   ]
  },
  {
   "cell_type": "markdown",
   "metadata": {},
   "source": [
    "## Multi-ticket Probability\n",
    "User should also be able to find the probability of winning if they play multiple different tickets. For instance, someone might intend to play 5 different tickets and they want to know the probability of winning the big prize.\n",
    "\n",
    "We will write a function, multi_ticket_probability(), that takes in the number of tickets and prints probability of winning depending on the input."
   ]
  },
  {
   "cell_type": "code",
   "execution_count": 9,
   "metadata": {},
   "outputs": [
    {
     "name": "stdout",
     "output_type": "stream",
     "text": [
      "The probability of winning with 1 tickets is 0.0000072%.\n",
      "In other word, you have a 1 in 13,983,816 chances to win.\n",
      "------------------------\n",
      "The probability of winning with 10 tickets is 0.0000715%.\n",
      "In other word, you have a 1 in 1,398,382 chances to win.\n",
      "------------------------\n",
      "The probability of winning with 100 tickets is 0.0007151%.\n",
      "In other word, you have a 1 in 139,838 chances to win.\n",
      "------------------------\n",
      "The probability of winning with 10000 tickets is 0.0715112%.\n",
      "In other word, you have a 1 in 1,398 chances to win.\n",
      "------------------------\n",
      "The probability of winning with 1000000 tickets is 7.1511238%.\n",
      "In other word, you have a 1 in 14 chances to win.\n",
      "------------------------\n",
      "The probability of winning with 6991908 tickets is 50.0000000%.\n",
      "In other word, you have a 1 in 2 chances to win.\n",
      "------------------------\n",
      "The probability of winning with 13983816 tickets is 100.0000000%.\n",
      "In other word, you have a 1 in 1 chances to win.\n",
      "------------------------\n"
     ]
    }
   ],
   "source": [
    "def multi_ticket_probability(number_of_ticket):\n",
    "    possible_outcomes = combinations(49,6)\n",
    "    probability = number_of_ticket/possible_outcomes*100\n",
    "    probabilty_simplified = round(possible_outcomes / number_of_ticket) \n",
    "    \n",
    "    message = (\"The probability of winning with {} tickets is\"\n",
    "               \" {:.7f}%.\\n\"\n",
    "               \"In other word, you have a 1 in {:,} chances to win.\".format(\n",
    "                   number_of_ticket, probability, int(probabilty_simplified)))\n",
    "    \n",
    "    print(message)\n",
    "    \n",
    "test_inputs = [1, 10, 100, 10000, 1000000, 6991908, 13983816]\n",
    "\n",
    "for test_input in test_inputs:\n",
    "    multi_ticket_probability(test_input)\n",
    "    print('------------------------') # Separate output to improve visibility  \n",
    "    "
   ]
  },
  {
   "cell_type": "markdown",
   "metadata": {
    "collapsed": true
   },
   "source": [
    "## Odds of winning smaller prizes\n",
    "\n",
    "In 6/49 lottery, there are smaller prizes if a player's ticket match two, three, four, or five of the six numbers drawn. Thus, some users might want to know the probability of having two, three, four, or five winning numbers."
   ]
  },
  {
   "cell_type": "markdown",
   "metadata": {},
   "source": [
    "Let's say a player chose these six numbers on a ticket: (1, 2, 3, 4 ,5 ,6). Out of these six numbers, we can form six five-number combinations:\n",
    "\n",
    "- (1, 2, 3, 4, 5)\n",
    "- (1, 2, 3, 4, 6)\n",
    "- (1, 2, 3, 5, 6)\n",
    "- (1, 2, 4, 5, 6)\n",
    "- (1, 3, 4, 5, 6)\n",
    "- (2, 3, 4, 5, 6)\n",
    "\n",
    "Thus, we can calculate total number of 5 number combinations by calculating \n",
    "\\begin{equation}\n",
    "_6C_5 = {6 \\choose 5} =  \\frac{6!}{5!(6-5)!} =  6\n",
    "\\end{equation}\n",
    "\n",
    "For each one of the six five-number combinations above, there are 44 possible successful outcomes in a lottery drawing. For the combination (1, 2, 3, 4, 5), for instance, there are 44 lottery outcomes that would return a prize:\n",
    "\n",
    "- (1, 2, 3, 4, 5, 6)\n",
    "- ...\n",
    "- (1, 2, 3, 4, 5, 15)\n",
    "- ...\n",
    "- (1, 2, 3, 4, 5, 30)\n",
    "- ...\n",
    "- (1, 2, 3, 4, 5, 49)\n",
    "\n",
    "So the probability of winning smaller prize for 5 number combinations is\n",
    "\\begin{equation}\n",
    "P(\\text{5 numbers}) = \\frac{6 \\times 44}{{49 \\choose 6}} = 0.0000189\n",
    "\\end{equation}\n",
    "\n",
    "We can generalize the equation to numbers between 2 and 5 to be:\n",
    "\n",
    "\\begin{equation}\n",
    "\\frac{{6 \\choose k}\\times {49-k\\choose6-k}}{{49 \\choose 6}}\n",
    "\\end{equation}\n",
    "\n",
    "Now we can construct a function to calculate the probability of winning smaller prizes, between 2 and 5 out of 6 correct numbers. We assume having only 1 number is not qualified to any prize."
   ]
  },
  {
   "cell_type": "code",
   "execution_count": 10,
   "metadata": {},
   "outputs": [
    {
     "name": "stdout",
     "output_type": "stream",
     "text": [
      "The probability of winning with 2 correct numbers is 19.1326531%. You have a 1 in 5 chance to win\n",
      "--------------------------\n",
      "The probability of winning with 3 correct numbers is 2.1710812%. You have a 1 in 46 chance to win\n",
      "--------------------------\n",
      "The probability of winning with 4 correct numbers is 0.1061942%. You have a 1 in 942 chance to win\n",
      "--------------------------\n",
      "The probability of winning with 5 correct numbers is 0.0018879%. You have a 1 in 52,969 chance to win\n",
      "--------------------------\n"
     ]
    }
   ],
   "source": [
    "def smaller_prizes_probability(n_correct):\n",
    "    if n_correct == 1:\n",
    "        print(\"You won't win any prize with only one right number,\")\n",
    "    elif n_correct >5:\n",
    "        print(\"Please retry with number between 2 and 5\")\n",
    "    else:\n",
    "        n_correct_combination = combinations(6, n_correct)\n",
    "        n_remain_combination = combinations(49 - n_correct,\n",
    "                                           6 - n_correct)\n",
    "        total_success = n_correct_combination * n_remain_combination\n",
    "        total_outcomes =  combinations(49,6)\n",
    "        # Calculate probability in percentage\n",
    "        probability = total_success/total_outcomes * 100\n",
    "        # Calculate odds\n",
    "        odds = round(total_outcomes/total_success)\n",
    "        print(\"The probability of winning with {} correct numbers is\"\n",
    "             \" {:.7f}%. You have a 1 in {:,} chance to win\".\n",
    "             format(n_correct,probability,int(odds)))\n",
    "\n",
    "for test_input in [2, 3, 4, 5]:\n",
    "    smaller_prizes_probability(test_input)\n",
    "    print('--------------------------') # output delimiter"
   ]
  }
 ],
 "metadata": {
  "kernelspec": {
   "display_name": "Python 3",
   "language": "python",
   "name": "python3"
  },
  "language_info": {
   "codemirror_mode": {
    "name": "ipython",
    "version": 3
   },
   "file_extension": ".py",
   "mimetype": "text/x-python",
   "name": "python",
   "nbconvert_exporter": "python",
   "pygments_lexer": "ipython3",
   "version": "3.7.4"
  }
 },
 "nbformat": 4,
 "nbformat_minor": 2
}
